{
 "cells": [
  {
   "cell_type": "code",
   "execution_count": 2,
   "metadata": {},
   "outputs": [],
   "source": [
    "import torch\n",
    "import torch.nn as nn\n",
    "import torch.nn.functional as F\n",
    "import torch.optim as optim\n",
    "\n",
    "import torchvision\n",
    "import torchvision.transforms as transforms\n",
    "\n",
    "import numpy as np\n",
    "import matplotlib.pyplot as plt"
   ]
  },
  {
   "cell_type": "code",
   "execution_count": 13,
   "metadata": {},
   "outputs": [],
   "source": [
    "transform = transforms.Compose(\n",
    "    [transforms.ToTensor()])\n",
    "\n",
    "trainset = torchvision.datasets.MNIST(root='./data', train=True,\n",
    "                                        download=True, transform=transform)\n",
    "\n",
    "trainloader = torch.utils.data.DataLoader(trainset, batch_size=512)\n",
    "trainloader1 = torch.utils.data.DataLoader(trainset, batch_size=len(trainset))\n",
    "testset = torchvision.datasets.MNIST(root='./data', train=False,\n",
    "                                       download=True, transform=transform)\n",
    "testloader = torch.utils.data.DataLoader(testset, batch_size=len(testset))\n",
    "testloader_display= torch.utils.data.DataLoader(testset, batch_size=1)"
   ]
  },
  {
   "cell_type": "code",
   "execution_count": 7,
   "metadata": {},
   "outputs": [],
   "source": [
    "class Network(nn.Module):#Extends all features of Module(bulit in class)to oyr network class\n",
    "    def __init__(self):#Defines the type of layers as part of the object\n",
    "        super(Network,self).__init__()\n",
    "        self.conv1=nn.Conv2d(in_channels=1,out_channels=6,kernel_size=3,stride=(1,1))\n",
    "        self.conv2=nn.Conv2d(in_channels=6,out_channels=10,kernel_size=5,stride=(1,1))\n",
    "        \n",
    "        self.fc1=nn.Linear(in_features=10*4*4,out_features=90)\n",
    "        self.out=nn.Linear(in_features=90,out_features=10)\n",
    "    \n",
    "    \n",
    "    def forward(self,t):\n",
    "        #Conv layer 1\n",
    "        t=self.conv1(t)#Implements the forward pass through predefined functions in the nn.Module class\n",
    "        t=F.relu(t)\n",
    "        t=F.max_pool2d(t,kernel_size=2,stride=2)\n",
    "        \n",
    "        #Conv layer 2\n",
    "        t=self.conv2(t)\n",
    "        t=F.relu(t)\n",
    "        t=F.max_pool2d(t,kernel_size=2,stride=2)\n",
    "        \n",
    "        #Fc layer 1\n",
    "        t=t.reshape(-1,10*4*4)\n",
    "        t=self.fc1(t)\n",
    "        t=F.relu(t)\n",
    "        \n",
    "        #Final softmax layer\n",
    "        t=self.out(t)\n",
    "        #t=F.softmax(t,dim=1),No need to do this cross entropy does it by itself\n",
    "        \n",
    "        return t"
   ]
  },
  {
   "cell_type": "code",
   "execution_count": 4,
   "metadata": {},
   "outputs": [],
   "source": [
    "#net=Network()\n",
    "'''net=torch.load('ConvNet MNIST.pth')\n",
    "net.eval()'''"
   ]
  },
  {
   "cell_type": "code",
   "execution_count": 5,
   "metadata": {},
   "outputs": [],
   "source": [
    "#optimizer=optim.Adam(net.parameters(),lr=0.01)"
   ]
  },
  {
   "cell_type": "code",
   "execution_count": 8,
   "metadata": {},
   "outputs": [],
   "source": [
    "def execute(num_iter):\n",
    "    costs=[]\n",
    "    for epoch in range(num_iter):\n",
    "        for batch in trainloader1:\n",
    "            images,labels=batch\n",
    "            \n",
    "            pred=net(images)\n",
    "            \n",
    "            loss=F.cross_entropy(pred,labels)\n",
    "            \n",
    "            optimizer.zero_grad()\n",
    "            loss.backward()\n",
    "            optimizer.step()\n",
    "            #print(\"Cost after batch process:\"+str(loss.item()))\n",
    "        print(\"Cost after epoch \"+str(epoch)+\":\"+str(loss.item()))   \n",
    "        costs.append(loss.item())\n",
    "               \n",
    "            \n",
    "    plt.plot(np.squeeze(costs))\n",
    "    plt.ylabel('cost')\n",
    "    plt.show()        "
   ]
  },
  {
   "cell_type": "code",
   "execution_count": 7,
   "metadata": {},
   "outputs": [
    {
     "name": "stdout",
     "output_type": "stream",
     "text": [
      "Cost after epoch 0:2.3054964542388916\n",
      "Cost after epoch 1:2.293219804763794\n",
      "Cost after epoch 2:2.268216609954834\n",
      "Cost after epoch 3:2.2244436740875244\n",
      "Cost after epoch 4:2.1472344398498535\n",
      "Cost after epoch 5:2.0216660499572754\n",
      "Cost after epoch 6:1.830710530281067\n",
      "Cost after epoch 7:1.5701905488967896\n",
      "Cost after epoch 8:1.2583039999008179\n",
      "Cost after epoch 9:0.9555940628051758\n",
      "Cost after epoch 10:0.7416338324546814\n",
      "Cost after epoch 11:0.722425639629364\n",
      "Cost after epoch 12:0.6506757736206055\n",
      "Cost after epoch 13:0.611083984375\n",
      "Cost after epoch 14:0.5382680892944336\n",
      "Cost after epoch 15:0.5135846138000488\n",
      "Cost after epoch 16:0.4899730682373047\n",
      "Cost after epoch 17:0.4288206398487091\n",
      "Cost after epoch 18:0.42538076639175415\n",
      "Cost after epoch 19:0.40435150265693665\n",
      "Cost after epoch 20:0.37744593620300293\n",
      "Cost after epoch 21:0.3591255247592926\n",
      "Cost after epoch 22:0.35034775733947754\n",
      "Cost after epoch 23:0.33173438906669617\n",
      "Cost after epoch 24:0.3085155487060547\n",
      "Cost after epoch 25:0.2987199127674103\n",
      "Cost after epoch 26:0.2930276095867157\n",
      "Cost after epoch 27:0.28064414858818054\n",
      "Cost after epoch 28:0.2658202052116394\n",
      "Cost after epoch 29:0.25454166531562805\n",
      "Cost after epoch 30:0.24762286245822906\n",
      "Cost after epoch 31:0.2418125718832016\n",
      "Cost after epoch 32:0.2344961166381836\n",
      "Cost after epoch 33:0.2268158346414566\n",
      "Cost after epoch 34:0.2192975878715515\n",
      "Cost after epoch 35:0.21132667362689972\n",
      "Cost after epoch 36:0.2046663761138916\n",
      "Cost after epoch 37:0.2000068873167038\n",
      "Cost after epoch 38:0.19497445225715637\n",
      "Cost after epoch 39:0.1882248818874359\n",
      "Cost after epoch 40:0.18180790543556213\n",
      "Cost after epoch 41:0.17774905264377594\n",
      "Cost after epoch 42:0.1743549406528473\n",
      "Cost after epoch 43:0.16939489543437958\n",
      "Cost after epoch 44:0.164460688829422\n",
      "Cost after epoch 45:0.16117314994335175\n",
      "Cost after epoch 46:0.15797527134418488\n",
      "Cost after epoch 47:0.15377360582351685\n",
      "Cost after epoch 48:0.14993445575237274\n",
      "Cost after epoch 49:0.14717693626880646\n",
      "Cost after epoch 50:0.14422379434108734\n",
      "Cost after epoch 51:0.14060856401920319\n",
      "Cost after epoch 52:0.1375027298927307\n",
      "Cost after epoch 53:0.1350940763950348\n",
      "Cost after epoch 54:0.13243520259857178\n",
      "Cost after epoch 55:0.1295718401670456\n",
      "Cost after epoch 56:0.12722644209861755\n",
      "Cost after epoch 57:0.12517604231834412\n",
      "Cost after epoch 58:0.12285493314266205\n",
      "Cost after epoch 59:0.12059503048658371\n",
      "Cost after epoch 60:0.1187494695186615\n",
      "Cost after epoch 61:0.11692923307418823\n",
      "Cost after epoch 62:0.11491762101650238\n",
      "Cost after epoch 63:0.11304314434528351\n",
      "Cost after epoch 64:0.11138702183961868\n",
      "Cost after epoch 65:0.10970679670572281\n",
      "Cost after epoch 66:0.10799700766801834\n",
      "Cost after epoch 67:0.10638849437236786\n",
      "Cost after epoch 68:0.1048707515001297\n",
      "Cost after epoch 69:0.10340853780508041\n",
      "Cost after epoch 70:0.10199006646871567\n",
      "Cost after epoch 71:0.10055971145629883\n",
      "Cost after epoch 72:0.0991550013422966\n",
      "Cost after epoch 73:0.09787972271442413\n",
      "Cost after epoch 74:0.09665732085704803\n",
      "Cost after epoch 75:0.09538090229034424\n",
      "Cost after epoch 76:0.09413889050483704\n",
      "Cost after epoch 77:0.09301711618900299\n",
      "Cost after epoch 78:0.09193208813667297\n",
      "Cost after epoch 79:0.09081487357616425\n",
      "Cost after epoch 80:0.0897221714258194\n",
      "Cost after epoch 81:0.08869636803865433\n",
      "Cost after epoch 82:0.08770749717950821\n",
      "Cost after epoch 83:0.08672591298818588\n",
      "Cost after epoch 84:0.08575467020273209\n"
     ]
    },
    {
     "ename": "KeyboardInterrupt",
     "evalue": "",
     "output_type": "error",
     "traceback": [
      "\u001b[0;31m---------------------------------------------------------------------------\u001b[0m",
      "\u001b[0;31mKeyboardInterrupt\u001b[0m                         Traceback (most recent call last)",
      "\u001b[0;32m<ipython-input-7-aacc20b364ad>\u001b[0m in \u001b[0;36m<module>\u001b[0;34m\u001b[0m\n\u001b[0;32m----> 1\u001b[0;31m \u001b[0mexecute\u001b[0m\u001b[0;34m(\u001b[0m\u001b[0;36m200\u001b[0m\u001b[0;34m)\u001b[0m\u001b[0;34m\u001b[0m\u001b[0;34m\u001b[0m\u001b[0m\n\u001b[0m",
      "\u001b[0;32m<ipython-input-6-8bf01ee0ea94>\u001b[0m in \u001b[0;36mexecute\u001b[0;34m(num_iter)\u001b[0m\n\u001b[1;32m     10\u001b[0m \u001b[0;34m\u001b[0m\u001b[0m\n\u001b[1;32m     11\u001b[0m             \u001b[0moptimizer\u001b[0m\u001b[0;34m.\u001b[0m\u001b[0mzero_grad\u001b[0m\u001b[0;34m(\u001b[0m\u001b[0;34m)\u001b[0m\u001b[0;34m\u001b[0m\u001b[0;34m\u001b[0m\u001b[0m\n\u001b[0;32m---> 12\u001b[0;31m             \u001b[0mloss\u001b[0m\u001b[0;34m.\u001b[0m\u001b[0mbackward\u001b[0m\u001b[0;34m(\u001b[0m\u001b[0;34m)\u001b[0m\u001b[0;34m\u001b[0m\u001b[0;34m\u001b[0m\u001b[0m\n\u001b[0m\u001b[1;32m     13\u001b[0m             \u001b[0moptimizer\u001b[0m\u001b[0;34m.\u001b[0m\u001b[0mstep\u001b[0m\u001b[0;34m(\u001b[0m\u001b[0;34m)\u001b[0m\u001b[0;34m\u001b[0m\u001b[0;34m\u001b[0m\u001b[0m\n\u001b[1;32m     14\u001b[0m             \u001b[0;31m#print(\"Cost after batch process:\"+str(loss.item()))\u001b[0m\u001b[0;34m\u001b[0m\u001b[0;34m\u001b[0m\u001b[0;34m\u001b[0m\u001b[0m\n",
      "\u001b[0;32m~/anaconda3/lib/python3.7/site-packages/torch/tensor.py\u001b[0m in \u001b[0;36mbackward\u001b[0;34m(self, gradient, retain_graph, create_graph)\u001b[0m\n\u001b[1;32m    105\u001b[0m                 \u001b[0mproducts\u001b[0m\u001b[0;34m.\u001b[0m \u001b[0mDefaults\u001b[0m \u001b[0mto\u001b[0m\u001b[0;31m \u001b[0m\u001b[0;31m`\u001b[0m\u001b[0;31m`\u001b[0m\u001b[0;32mFalse\u001b[0m\u001b[0;31m`\u001b[0m\u001b[0;31m`\u001b[0m\u001b[0;34m.\u001b[0m\u001b[0;34m\u001b[0m\u001b[0;34m\u001b[0m\u001b[0m\n\u001b[1;32m    106\u001b[0m         \"\"\"\n\u001b[0;32m--> 107\u001b[0;31m         \u001b[0mtorch\u001b[0m\u001b[0;34m.\u001b[0m\u001b[0mautograd\u001b[0m\u001b[0;34m.\u001b[0m\u001b[0mbackward\u001b[0m\u001b[0;34m(\u001b[0m\u001b[0mself\u001b[0m\u001b[0;34m,\u001b[0m \u001b[0mgradient\u001b[0m\u001b[0;34m,\u001b[0m \u001b[0mretain_graph\u001b[0m\u001b[0;34m,\u001b[0m \u001b[0mcreate_graph\u001b[0m\u001b[0;34m)\u001b[0m\u001b[0;34m\u001b[0m\u001b[0;34m\u001b[0m\u001b[0m\n\u001b[0m\u001b[1;32m    108\u001b[0m \u001b[0;34m\u001b[0m\u001b[0m\n\u001b[1;32m    109\u001b[0m     \u001b[0;32mdef\u001b[0m \u001b[0mregister_hook\u001b[0m\u001b[0;34m(\u001b[0m\u001b[0mself\u001b[0m\u001b[0;34m,\u001b[0m \u001b[0mhook\u001b[0m\u001b[0;34m)\u001b[0m\u001b[0;34m:\u001b[0m\u001b[0;34m\u001b[0m\u001b[0;34m\u001b[0m\u001b[0m\n",
      "\u001b[0;32m~/anaconda3/lib/python3.7/site-packages/torch/autograd/__init__.py\u001b[0m in \u001b[0;36mbackward\u001b[0;34m(tensors, grad_tensors, retain_graph, create_graph, grad_variables)\u001b[0m\n\u001b[1;32m     91\u001b[0m     Variable._execution_engine.run_backward(\n\u001b[1;32m     92\u001b[0m         \u001b[0mtensors\u001b[0m\u001b[0;34m,\u001b[0m \u001b[0mgrad_tensors\u001b[0m\u001b[0;34m,\u001b[0m \u001b[0mretain_graph\u001b[0m\u001b[0;34m,\u001b[0m \u001b[0mcreate_graph\u001b[0m\u001b[0;34m,\u001b[0m\u001b[0;34m\u001b[0m\u001b[0;34m\u001b[0m\u001b[0m\n\u001b[0;32m---> 93\u001b[0;31m         allow_unreachable=True)  # allow_unreachable flag\n\u001b[0m\u001b[1;32m     94\u001b[0m \u001b[0;34m\u001b[0m\u001b[0m\n\u001b[1;32m     95\u001b[0m \u001b[0;34m\u001b[0m\u001b[0m\n",
      "\u001b[0;31mKeyboardInterrupt\u001b[0m: "
     ]
    }
   ],
   "source": [
    "#execute(200)"
   ]
  },
  {
   "cell_type": "code",
   "execution_count": 17,
   "metadata": {},
   "outputs": [
    {
     "name": "stdout",
     "output_type": "stream",
     "text": [
      "tensor([3, 0, 4,  ..., 5, 6, 8])\n"
     ]
    }
   ],
   "source": [
    "b1=next(iter(trainloader1))\n",
    "i1,l1=b1\n",
    "p1=net(i1)\n",
    "print(p1.argmax(dim=1))\n",
    "a_train=p1.argmax(dim=1).eq(l1).sum()"
   ]
  },
  {
   "cell_type": "code",
   "execution_count": 18,
   "metadata": {},
   "outputs": [
    {
     "name": "stdout",
     "output_type": "stream",
     "text": [
      "Accuracy on train set:0.9856\n"
     ]
    }
   ],
   "source": [
    "print(\"Accuracy on train set:\"+str(int(a_train)/len(trainset)))"
   ]
  },
  {
   "cell_type": "code",
   "execution_count": 19,
   "metadata": {},
   "outputs": [
    {
     "name": "stdout",
     "output_type": "stream",
     "text": [
      "tensor([7, 2, 1,  ..., 4, 5, 6])\n",
      "tensor(9795)\n"
     ]
    }
   ],
   "source": [
    "b=next(iter(testloader))\n",
    "i,l=b\n",
    "p_test=net(i)\n",
    "print(p_test.argmax(dim=1))\n",
    "a_test=p_test.argmax(dim=1).eq(l).sum()\n",
    "#print(a_test)"
   ]
  },
  {
   "cell_type": "code",
   "execution_count": 20,
   "metadata": {},
   "outputs": [
    {
     "name": "stdout",
     "output_type": "stream",
     "text": [
      "Accuracy on test set:0.9795\n"
     ]
    }
   ],
   "source": [
    "print(\"Accuracy on test set:\"+str(int(a_test)/len(testset)))"
   ]
  },
  {
   "cell_type": "code",
   "execution_count": 43,
   "metadata": {},
   "outputs": [],
   "source": [
    "#Checking what was predicted as what......\n",
    "def show(index):\n",
    "    i=0\n",
    "    for batch in testloader_display:\n",
    "        if i==index:\n",
    "            img,label=batch\n",
    "            plt.imshow(img.squeeze(),cmap='gray')#.squeeze is required to change img dimensions from (1,28,28) to (28,28)\n",
    "            print('Prediction:'+str(int(p_test.argmax(dim=1)[i])))\n",
    "            print('Actual:'+str(int(label)))\n",
    "            break\n",
    "        elif i<index:\n",
    "            i+=1"
   ]
  },
  {
   "cell_type": "code",
   "execution_count": 34,
   "metadata": {},
   "outputs": [
    {
     "name": "stdout",
     "output_type": "stream",
     "text": [
      "Prediction:1\n",
      "Actual:1\n"
     ]
    },
    {
     "data": {
      "image/png": "[encoded data removed]",
      "text/plain": [
       "<Figure size 432x288 with 1 Axes>"
      ]
     },
     "metadata": {
      "needs_background": "light"
     },
     "output_type": "display_data"
    }
   ],
   "source": [
    "show(5)"
   ]
  },
  {
   "cell_type": "code",
   "execution_count": 37,
   "metadata": {},
   "outputs": [],
   "source": [
    "torch.save(net,'ConvNet MNIST.pth')"
   ]
  },
  {
   "cell_type": "code",
   "execution_count": 16,
   "metadata": {},
   "outputs": [
    {
     "data": {
      "text/plain": [
       "Network(\n",
       "  (conv1): Conv2d(1, 6, kernel_size=(3, 3), stride=(1, 1))\n",
       "  (conv2): Conv2d(6, 10, kernel_size=(5, 5), stride=(1, 1))\n",
       "  (fc1): Linear(in_features=160, out_features=90, bias=True)\n",
       "  (out): Linear(in_features=90, out_features=10, bias=True)\n",
       ")"
      ]
     },
     "execution_count": 16,
     "metadata": {},
     "output_type": "execute_result"
    }
   ],
   "source": [
    "cnn=torch.load('ConvNet MNIST.pth')\n",
    "cnn.eval()"
   ]
  },
  {
   "cell_type": "code",
   "execution_count": 39,
   "metadata": {},
   "outputs": [
    {
     "name": "stdout",
     "output_type": "stream",
     "text": [
      "tensor([7, 2, 1,  ..., 4, 5, 6])\n",
      "tensor(9738)\n"
     ]
    }
   ],
   "source": [
    "b=next(iter(testloader))\n",
    "i,l=b\n",
    "p=cnn(i)\n",
    "print(p.argmax(dim=1))\n",
    "a_test=p.argmax(dim=1).eq(l).sum()\n",
    "print(a_test)"
   ]
  },
  {
   "cell_type": "code",
   "execution_count": null,
   "metadata": {},
   "outputs": [],
   "source": []
  }
 ],
 "metadata": {
  "kernelspec": {
   "display_name": "Python 3",
   "language": "python",
   "name": "python3"
  },
  "language_info": {
   "codemirror_mode": {
    "name": "ipython",
    "version": 3
   },
   "file_extension": ".py",
   "mimetype": "text/x-python",
   "name": "python",
   "nbconvert_exporter": "python",
   "pygments_lexer": "ipython3",
   "version": "3.7.3"
  }
 },
 "nbformat": 4,
 "nbformat_minor": 2
}

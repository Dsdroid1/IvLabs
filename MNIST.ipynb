{
 "cells": [
  {
   "cell_type": "code",
   "execution_count": 3,
   "metadata": {},
   "outputs": [],
   "source": [
    "import numpy as np\n",
    "import pandas as pd\n",
    "import matplotlib.pyplot as plt"
   ]
  },
  {
   "cell_type": "code",
   "execution_count": 4,
   "metadata": {},
   "outputs": [],
   "source": [
    "data=pd.read_csv(\"Desktop/mnist_train.csv\",header=None)#Reads as dataframe,header=none for preventing 1st row cloumn to become headers\n",
    "data1=np.array(data)#converting to numpy array\n"
   ]
  },
  {
   "cell_type": "code",
   "execution_count": 5,
   "metadata": {},
   "outputs": [],
   "source": [
    "y=data1[:,0]\n",
    "y.reshape(y.shape[0],1)\n",
    "X=data1[:,1:]\n",
    "m=X.shape[0]\n",
    "n_x=X.shape[1]\n",
    "X=X.T\n",
    "n_y=10\n",
    "Y=np.zeros((10,m))\n",
    "for i in range(m):\n",
    "    Y[y[i],i]+=1\n",
    "#Train Input taken succesfully    "
   ]
  },
  {
   "cell_type": "code",
   "execution_count": 6,
   "metadata": {},
   "outputs": [],
   "source": [
    "data=pd.read_csv(\"Desktop/mnist_test.csv\",header=None)#Reads as dataframe,header=none for preventing 1st row cloumn to become headers\n",
    "data1=np.array(data)#converting to numpy array\n"
   ]
  },
  {
   "cell_type": "code",
   "execution_count": 7,
   "metadata": {},
   "outputs": [],
   "source": [
    "y_test=data1[:,0]\n",
    "y_test.reshape(y_test.shape[0],1)\n",
    "X_test=data1[:,1:]\n",
    "m_test=X_test.shape[0]\n",
    "n_x_test=X_test.shape[1]\n",
    "X_test=X_test.T\n",
    "n_y_test=10\n",
    "Y_test=np.zeros((10,m))\n",
    "for i in range(m_test):\n",
    "    Y_test[y_test[i],i]+=1"
   ]
  },
  {
   "cell_type": "code",
   "execution_count": 8,
   "metadata": {},
   "outputs": [],
   "source": [
    "def initialize_parameters(layer_dims):\n",
    "    #Input dimensions of layers\n",
    "    #Output-dictionary containing weights and bais for them\n",
    "    parameters=dict()\n",
    "    for i in range(len(layer_dims)-1):\n",
    "        parameters[\"W\"+str(i+1)]=np.random.randn(layer_dims[i+1],layer_dims[i])*0.01\n",
    "        parameters[\"b\"+str(i+1)]=np.zeros((layer_dims[i+1],1))\n",
    "        assert(parameters[\"W\"+str(i+1)]).shape==(layer_dims[i+1],layer_dims[i])\n",
    "        assert(parameters[\"b\"+str(i+1)]).shape==(layer_dims[i+1],1)\n",
    "        \n",
    "    return parameters "
   ]
  },
  {
   "cell_type": "code",
   "execution_count": 9,
   "metadata": {},
   "outputs": [],
   "source": [
    "def forward_prop(A_prev,W,b):\n",
    "    #Calculates Z\n",
    "    Z=np.dot(W,A_prev)+b\n",
    "    assert(Z.shape==(W.shape[0],A_prev.shape[1]))\n",
    "    return Z"
   ]
  },
  {
   "cell_type": "code",
   "execution_count": 10,
   "metadata": {},
   "outputs": [],
   "source": [
    "def forward_act(A_prev,W,b,activation):\n",
    "    #Input -Type of activation\n",
    "    #Output-Activation\n",
    "    Z=forward_prop(A_prev,W,b)\n",
    "    if activation=='sigmoid':\n",
    "        A=1/(1+np.exp(-Z))\n",
    "    elif activation=='relu':\n",
    "        A=np.maximum(0,Z)\n",
    "    elif activation=='tanh':\n",
    "        A=(np.exp(Z)-np.exp(-Z))/(np.exp(Z)+np.exp(-Z))\n",
    "    elif activation=='softmax':\n",
    "        A=np.exp(Z)/np.sum(np.exp(Z),axis=0,keepdims=True)\n",
    "        \n",
    "    assert(Z.shape==(W.shape[0],A_prev.shape[1]))    \n",
    "    return A ,Z   "
   ]
  },
  {
   "cell_type": "code",
   "execution_count": 11,
   "metadata": {},
   "outputs": [],
   "source": [
    "def L_layer_forward(X,parameters):\n",
    "    l=int(len(parameters)/2)\n",
    "    A_prev=X\n",
    "    Z_caches=[]\n",
    "    A_caches=[]\n",
    "    A_caches.append(X)\n",
    "    #caches.append(X)\n",
    "    for i in range(l):\n",
    "        if i==l-1:  \n",
    "            AL,cache=forward_act(A_prev,parameters[\"W\"+str(i+1)],parameters[\"b\"+str(i+1)],'softmax')\n",
    "        else:\n",
    "            A,cache=forward_act(A_prev,parameters[\"W\"+str(i+1)],parameters[\"b\"+str(i+1)],'relu')\n",
    "            A_prev=A\n",
    "            A_caches.append(A_prev)\n",
    "        Z_caches.append(cache)\n",
    "    A_caches.append(AL)\n",
    "    \n",
    "   # assert(AL.shape==(n_y,m))\n",
    "    return AL,Z_caches,A_caches"
   ]
  },
  {
   "cell_type": "code",
   "execution_count": 12,
   "metadata": {},
   "outputs": [],
   "source": [
    "def cost(AL,Y):\n",
    "    J=-1/m*np.sum(np.sum(np.log(AL)*Y,axis=0,keepdims=True),axis=1,keepdims=True)\n",
    "\n",
    "    \n",
    "    \n",
    "    return J"
   ]
  },
  {
   "cell_type": "code",
   "execution_count": 13,
   "metadata": {},
   "outputs": [],
   "source": [
    "def relu_backward(dA,Z):\n",
    "    temp=(Z>0)\n",
    "    dZ=dA*temp\n",
    "    \n",
    "    return dZ"
   ]
  },
  {
   "cell_type": "code",
   "execution_count": 14,
   "metadata": {},
   "outputs": [],
   "source": [
    "def softmax_backward(dA,Z):\n",
    "    dZ=dA*(np.exp(Z)/np.sum(np.exp(Z),axis=0,keepdims=True))*(1-np.exp(Z)/np.sum(np.exp(Z),axis=0,keepdims=True))\n",
    "    \n",
    "    return dZ"
   ]
  },
  {
   "cell_type": "code",
   "execution_count": 15,
   "metadata": {},
   "outputs": [],
   "source": [
    "def grad(A_caches,Z_caches,parameters,AL,Y):#needs amendment,dW1 always zero\n",
    "    grads=dict()\n",
    "    l=int(len(parameters)/2)\n",
    "    grads[\"dZ\"+str(l)]=AL-Y\n",
    "    for i in reversed(range(l)):\n",
    "        grads[\"dW\"+str(i+1)]=1/m*np.dot(grads[\"dZ\"+str(i+1)],A_caches[i].T)\n",
    "        grads[\"db\"+str(i+1)]=1/m*np.sum(grads[\"dZ\"+str(i+1)],axis=1,keepdims=True)\n",
    "        if i==0:break\n",
    "        dA=np.dot(parameters[\"W\"+str(i+1)].T,grads[\"dZ\"+str(i+1)])\n",
    "        if i==l-1:\n",
    "            grads[\"dZ\"+str(i)]=softmax_backward(dA,Z_caches[i-1])\n",
    "        else:\n",
    "            grads[\"dZ\"+str(i)]=relu_backward(dA,Z_caches[i-1])   \n",
    "        \n",
    "    return grads    "
   ]
  },
  {
   "cell_type": "code",
   "execution_count": 16,
   "metadata": {},
   "outputs": [],
   "source": [
    "def update_paramters(parameters,grads,learning_rate):\n",
    "    l=int(len(parameters)/2)\n",
    "    for i in range(l):\n",
    "        parameters[\"W\"+str(i+1)]-=learning_rate*grads[\"dW\"+str(i+1)]\n",
    "        parameters[\"b\"+str(i+1)]-=learning_rate*grads[\"db\"+str(i+1)]\n",
    "        \n",
    "    return parameters    "
   ]
  },
  {
   "cell_type": "code",
   "execution_count": 19,
   "metadata": {},
   "outputs": [],
   "source": [
    "def Train_model(X,Y,layer_dims,num_iter=1500,print_cost=False):\n",
    "    costs=[]\n",
    "    learning_rate=0.001\n",
    "    parameters=initialize_parameters(layer_dims)\n",
    "    for i in range(num_iter):\n",
    "        AL,Z_caches,A_caches=L_layer_forward(X,parameters)\n",
    "        J=cost(AL,Y)\n",
    "        grads=grad(A_caches,Z_caches,parameters,AL,Y)\n",
    "        parameters=update_paramters(parameters,grads,learning_rate)\n",
    "        # Print the cost every 100 training example\n",
    "        if print_cost and i % 100 == 0:\n",
    "            print(\"Cost after iteration \"+str(i)+\":\"+str(J))\n",
    "        if print_cost and i % 100 == 0:\n",
    "            costs.append(J)\n",
    "       \n",
    "    # plot the cost\n",
    "\n",
    "    plt.plot(np.squeeze(costs))\n",
    "    plt.ylabel('cost')\n",
    "    plt.xlabel('iterations (per hundreds)')\n",
    "    plt.title(\"Learning rate =\" + str(learning_rate))\n",
    "    plt.show()\n",
    "        \n",
    "    \n",
    "    return parameters"
   ]
  },
  {
   "cell_type": "code",
   "execution_count": 20,
   "metadata": {},
   "outputs": [
    {
     "name": "stdout",
     "output_type": "stream",
     "text": [
      "Cost after iteration 0:[[4.37356777]]\n",
      "Cost after iteration 100:[[0.55450107]]\n",
      "Cost after iteration 200:[[0.47661335]]\n",
      "Cost after iteration 300:[[0.44275762]]\n",
      "Cost after iteration 400:[[0.42254451]]\n",
      "Cost after iteration 500:[[0.40869297]]\n",
      "Cost after iteration 600:[[0.39842454]]\n",
      "Cost after iteration 700:[[0.3904168]]\n",
      "Cost after iteration 800:[[0.38394617]]\n",
      "Cost after iteration 900:[[0.37857761]]\n",
      "Cost after iteration 1000:[[0.37402951]]\n",
      "Cost after iteration 1100:[[0.37011083]]\n",
      "Cost after iteration 1200:[[0.36668872]]\n",
      "Cost after iteration 1300:[[0.36366558]]\n",
      "Cost after iteration 1400:[[0.36096994]]\n"
     ]
    },
    {
     "data": {
      "image/png": "[encoded data removed]",
      "text/plain": [
       "<Figure size 432x288 with 1 Axes>"
      ]
     },
     "metadata": {
      "needs_background": "light"
     },
     "output_type": "display_data"
    }
   ],
   "source": [
    "layer_dims=[n_x,150,n_y]\n",
    "p=Train_model(X,Y,layer_dims,num_iter=1500,print_cost=True)\n"
   ]
  },
  {
   "cell_type": "code",
   "execution_count": 21,
   "metadata": {},
   "outputs": [
    {
     "name": "stdout",
     "output_type": "stream",
     "text": [
      "Accuracy on training set is 0.8939833333333334\n"
     ]
    }
   ],
   "source": [
    "AL,Zcaches,Acaches=L_layer_forward(X,p)\n",
    "temp=np.ndarray.max(AL,axis=0,keepdims=True)\n",
    "AL=(AL>=temp)\n",
    "t=0\n",
    "for i in range(m):\n",
    "    a=1\n",
    "    for j in range(Y.shape[0]):\n",
    "        if AL[j,i]!=Y[j,i]:\n",
    "            a=0\n",
    "            break\n",
    "    if a==1:t+=1        \n",
    "            \n",
    "accuracy=t/(m)\n",
    "print(\"Accuracy on training set is \"+str(accuracy))"
   ]
  },
  {
   "cell_type": "code",
   "execution_count": 22,
   "metadata": {},
   "outputs": [
    {
     "name": "stdout",
     "output_type": "stream",
     "text": [
      "Accuracy on test set is 0.8932\n"
     ]
    }
   ],
   "source": [
    "AL,Zcaches,Acaches=L_layer_forward(X_test,p)\n",
    "temp=np.ndarray.max(AL,axis=0,keepdims=True)\n",
    "AL=(AL>=temp)\n",
    "t=0\n",
    "for i in range(m_test):\n",
    "    a=1\n",
    "    for j in range(Y_test.shape[0]):\n",
    "        if AL[j,i]!=Y_test[j,i]:\n",
    "            a=0\n",
    "            break\n",
    "    if a==1:t+=1        \n",
    "            \n",
    "accuracy=t/(m_test)\n",
    "print(\"Accuracy on test set is \"+str(accuracy))"
   ]
  },
  {
   "cell_type": "code",
   "execution_count": 23,
   "metadata": {},
   "outputs": [],
   "source": [
    "predict=np.zeros((1,m_test))\n",
    "for i in range(m_test):\n",
    "    for j in range(10):\n",
    "        if AL[j,i]==True:\n",
    "            predict[0,i]=j"
   ]
  },
  {
   "cell_type": "code",
   "execution_count": null,
   "metadata": {},
   "outputs": [],
   "source": []
  },
  {
   "cell_type": "code",
   "execution_count": 32,
   "metadata": {},
   "outputs": [],
   "source": [
    "def display(k):\n",
    "    plt.imshow(X_test[:,k].reshape(28,28))\n",
    "    print(\"You predicted it is :\"+str(predict[0,k]))  \n",
    "    print(\"It actually is:\"+str(y_test[k]))"
   ]
  },
  {
   "cell_type": "code",
   "execution_count": 44,
   "metadata": {},
   "outputs": [
    {
     "name": "stdout",
     "output_type": "stream",
     "text": [
      "You predicted it is :4.0\n",
      "It actually is:4\n"
     ]
    },
    {
     "data": {
      "image/png": "[encoded data removed]",
      "text/plain": [
       "<Figure size 432x288 with 1 Axes>"
      ]
     },
     "metadata": {
      "needs_background": "light"
     },
     "output_type": "display_data"
    }
   ],
   "source": [
    "display(9099)"
   ]
  }
 ],
 "metadata": {
  "kernelspec": {
   "display_name": "Python 3",
   "language": "python",
   "name": "python3"
  },
  "language_info": {
   "codemirror_mode": {
    "name": "ipython",
    "version": 3
   },
   "file_extension": ".py",
   "mimetype": "text/x-python",
   "name": "python",
   "nbconvert_exporter": "python",
   "pygments_lexer": "ipython3",
   "version": "3.7.3"
  }
 },
 "nbformat": 4,
 "nbformat_minor": 2
}
